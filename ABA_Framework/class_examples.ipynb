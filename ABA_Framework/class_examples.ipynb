{
 "cells": [
  {
   "cell_type": "markdown",
   "metadata": {},
   "source": [
    "### Computation of class examples\n",
    "\n",
    "NB: Python 3.10 or newer is needed to run this notebook"
   ]
  },
  {
   "cell_type": "code",
   "execution_count": 1,
   "metadata": {},
   "outputs": [],
   "source": [
    "%load_ext autoreload\n",
    "%autoreload\n",
    "from helpers.aba_generator import ABA_Generator, ConvertTo"
   ]
  },
  {
   "cell_type": "markdown",
   "metadata": {},
   "source": [
    "#### 4A.1 - Generating arguments\n",
    "\n",
    "Consider the following flat ABA framework $(L,R,A, \\bar{\\ })$:\n",
    "\n",
    "- $L = \\{a,b,c,p,q,r,s,t\\}$\n",
    "- $R = \\{ p \\leftarrow q,a, q \\leftarrow, r \\leftarrow b,c\\}$\n",
    "- $A = \\{a,b,c,\\}$\n",
    "- $\\bar{a}=r, \\bar{b} =s, \\bar{c} = t$\n",
    "\n",
    "Some arguments are:\n",
    "\n",
    "- $\\{\\} \\vdash q$\n",
    "- $\\{a\\} \\vdash p$\n",
    "- $\\{b,c\\} \\vdash r$\n",
    "- $\\{a\\} \\vdash a$\n",
    "- $\\{b\\} \\vdash b$\n",
    "- $\\{c\\} \\vdash c$"
   ]
  },
  {
   "cell_type": "code",
   "execution_count": 2,
   "metadata": {},
   "outputs": [
    {
     "data": {
      "text/plain": [
       "Language : {'r', 'q', 'b', 'p', 'c', 's', 't', 'a'}\n",
       "\n",
       "Assumptions : {'b', 'a', 'c'}\n",
       "\n",
       "Rules:\n",
       "R0: p <- ('q', 'a')\n",
       "R1: q <- \n",
       "R2: r <- ('b', 'c')\n",
       "\n",
       "Contraries:\n",
       "C0: Contrary de a = r\n",
       "C1: Contrary de b = s\n",
       "C2: Contrary de c = t\n",
       "\n",
       "Preferences:\n",
       "\n",
       "\n",
       "Arguments:\n",
       "A0: ('a',) |- p\n",
       "A1: ('',) |- q\n",
       "A2: ('b', 'c') |- r\n",
       "A3: ('b',) |- b\n",
       "A4: ('a',) |- a\n",
       "A5: ('c',) |- c\n",
       "\n",
       "Attacks:\n",
       "\n",
       "Normal Attacks:\n",
       "\n",
       "Reverse Attacks:"
      ]
     },
     "execution_count": 2,
     "metadata": {},
     "output_type": "execute_result"
    }
   ],
   "source": [
    "language = \"a,b,c,p,q,r,s,t\"\n",
    "rules = \"(p,(q,a)),(q,),(r,(b,c))\"\n",
    "assumptions = \"a,b,c\"\n",
    "contraries = \"(a,r),(b,s),(c,t)\"\n",
    "\n",
    "ABA_Generator.create_arguments(language, assumptions, rules, contraries)"
   ]
  },
  {
   "cell_type": "markdown",
   "metadata": {},
   "source": [
    "#### 4A.1 - Generating attacks\n",
    "\n",
    "Consider the following flat ABA framework $(L,R,A, \\bar{\\ })$:\n",
    "\n",
    "- $L = \\{a,b,c,p,q,r,s,t\\}$\n",
    "- $R = \\{ p \\leftarrow q,a, q \\leftarrow, r \\leftarrow b,c\\}$\n",
    "- $A = \\{a,b,c,\\}$\n",
    "- $\\bar{a}=r, \\bar{b} =s, \\bar{c} = t$\n",
    "\n",
    "$\\{b,c\\} \\vdash r$ attacks $\\{a\\} \\vdash a$ and $\\{a\\} \\vdash p$ (because $\\bar{a} = r$). The inverse does not hold."
   ]
  },
  {
   "cell_type": "code",
   "execution_count": 4,
   "metadata": {},
   "outputs": [
    {
     "data": {
      "text/plain": [
       "Language : {'r', 'q', 'b', 'p', 'c', 's', 't', 'a'}\n",
       "\n",
       "Assumptions : {'b', 'a', 'c'}\n",
       "\n",
       "Rules:\n",
       "R0: p <- ('q', 'a')\n",
       "R1: q <- \n",
       "R2: r <- ('b', 'c')\n",
       "\n",
       "Contraries:\n",
       "C0: Contrary de a = r\n",
       "C1: Contrary de b = s\n",
       "C2: Contrary de c = t\n",
       "\n",
       "Preferences:\n",
       "\n",
       "\n",
       "Arguments:\n",
       "A0: ('a',) |- p\n",
       "A1: ('',) |- q\n",
       "A2: ('b', 'c') |- r\n",
       "A3: ('b',) |- b\n",
       "A4: ('a',) |- a\n",
       "A5: ('c',) |- c\n",
       "\n",
       "Attacks:\n",
       "A2 attacks A0\n",
       "A2 attacks A4\n",
       "Normal Attacks:\n",
       "\n",
       "Reverse Attacks:"
      ]
     },
     "execution_count": 4,
     "metadata": {},
     "output_type": "execute_result"
    }
   ],
   "source": [
    "ABA_Generator.create_attacks(language, assumptions, rules, contraries)"
   ]
  },
  {
   "cell_type": "markdown",
   "metadata": {},
   "source": [
    "#### 4A.5 - Transforming ABA frameworks - Transforming non-circular ABA frameworks to Atomic ABA frameworks\n",
    "\n",
    "Let $(L,R,A,\\bar{\\ })$ be the following non-circular ABA framework.\n",
    "\n",
    "- $A = \\{a,b\\}$\n",
    "- $L = \\{a,b,p,q,r\\}$\n",
    "- $R = \\{ r_1: p \\leftarrow q ; \\\\ r_2 : q\\leftarrow a \\\\ r_3: r \\leftarrow b;\\}$\n",
    "- $\\overline{a} =r ; \\overline{b} = p$\n",
    "\n",
    "We apply the transformation to obtain the following atomic ABA framework $(L',R',A',\\bar{\\ }')$:\n",
    "\n",
    "- $A’= \\{a,b, p_d , p_{nd}, q_d, q_{nd}, r_d, r_{nd} \\}$\n",
    "- $L’ = L \\cup A’$\n",
    "- $R’ = \\{ p \\leftarrow q_d; \\\\ q \\leftarrow a;\\\\ r \\leftarrow b\\}$\n",
    "- $\\overline{a} =r ; \\overline{b} = p; \\overline{p_d} = p_{nd}; \\overline{p_{nd}}= p; \\overline{q_d} = q_{nd}; \\overline{q_{nd}}= q;\\overline{r_d} = r_{nd}; \\overline{r_{nd}}= r$"
   ]
  },
  {
   "cell_type": "code",
   "execution_count": 6,
   "metadata": {},
   "outputs": [
    {
     "data": {
      "text/plain": [
       "Language : {'r_d', 'r', 'r_nd', 'b', 'q', 'p', 'q_nd', 'p_d', 'q_d', 'a', 'p_nd'}\n",
       "\n",
       "Assumptions : {'r_d', 'r_nd', 'b', 'q_nd', 'p_d', 'q_d', 'a', 'p_nd'}\n",
       "\n",
       "Rules:\n",
       "R0: p <- q_d\n",
       "R1: q <- a\n",
       "R2: r <- b\n",
       "\n",
       "Contraries:\n",
       "C0: Contrary de a = r\n",
       "C1: Contrary de b = p\n",
       "C2: Contrary de r_d = r_nd\n",
       "C3: Contrary de r_nd = r\n",
       "C4: Contrary de q_d = q_nd\n",
       "C5: Contrary de q_nd = q\n",
       "C6: Contrary de p_d = p_nd\n",
       "C7: Contrary de p_nd = p\n",
       "\n",
       "Preferences:\n",
       "\n",
       "\n",
       "Arguments:\n",
       "A0: ('q_d',) |- p\n",
       "A1: ('a',) |- q\n",
       "A2: ('b',) |- r\n",
       "A3: ('r_d',) |- r_d\n",
       "A4: ('r_nd',) |- r_nd\n",
       "A5: ('b',) |- b\n",
       "A6: ('q_nd',) |- q_nd\n",
       "A7: ('p_d',) |- p_d\n",
       "A8: ('q_d',) |- q_d\n",
       "A9: ('a',) |- a\n",
       "A10: ('p_nd',) |- p_nd\n",
       "\n",
       "Attacks:\n",
       "\n",
       "Normal Attacks:\n",
       "\n",
       "Reverse Attacks:"
      ]
     },
     "execution_count": 6,
     "metadata": {},
     "output_type": "execute_result"
    }
   ],
   "source": [
    "language = \"a,b,p,q,r\"\n",
    "rules = \"(p,q),(q,a),(r,b)\"\n",
    "assumptions = \"a,b\"\n",
    "contraries = \"(a,r),(b,p)\"\n",
    "\n",
    "ABA_Generator.create_arguments(language, assumptions, rules, contraries, convert_to=ConvertTo.ATOMIC)"
   ]
  },
  {
   "cell_type": "markdown",
   "metadata": {},
   "source": [
    "#### 4A.5 - Transforming ABA frameworks - Transforming circular ABA frameworks to non-circular ABA frameworks\n",
    "\n",
    "Let $(L,R,A,\\bar{\\ })$ be the following circular ABA framework.\n",
    "\n",
    "- $A = \\{a\\}$\n",
    "- $L = \\{a,p,q\\}$\n",
    "- $R = \\{ p \\leftarrow a; \\\\ p \\leftarrow q; \\\\q \\leftarrow p\\}$\n",
    "\n",
    "We have that $k = | L \\setminus A | = 2$\n",
    "\n",
    "We obtain:\n",
    "\n",
    "- $L^\\circ = \\{a , p_1, p_2, q_1, q_2\\}$\n",
    "- $R^\\circ = \\{ p^1 \\leftarrow a ; p^2 \\leftarrow a; \\\\ p^2 \\leftarrow q^1; \\\\ q^2 \\leftarrow p^1 \\}$, where $p^2 = p$ and $q^2 = q$."
   ]
  },
  {
   "cell_type": "code",
   "execution_count": 8,
   "metadata": {},
   "outputs": [
    {
     "data": {
      "text/plain": [
       "Language : {'a', 'p1', 'q1', 'q', 'p'}\n",
       "\n",
       "Assumptions : {'a'}\n",
       "\n",
       "Rules:\n",
       "R0: p1 <- a\n",
       "R1: p <- a\n",
       "R2: p <- q1\n",
       "R3: q <- p1\n",
       "\n",
       "Contraries:\n",
       "\n",
       "\n",
       "Preferences:\n",
       "\n",
       "\n",
       "Arguments:\n",
       "\n",
       "Attacks:\n",
       "\n",
       "Normal Attacks:\n",
       "\n",
       "Reverse Attacks:"
      ]
     },
     "execution_count": 8,
     "metadata": {},
     "output_type": "execute_result"
    }
   ],
   "source": [
    "language = \"a,p,q\"\n",
    "rules = \"(p,a),(p,q),(q,p)\"\n",
    "assumptions = \"a\"\n",
    "contraries = \"\"\n",
    "\n",
    "ABA_Generator.convert_to_non_circular(language, assumptions, rules, contraries)"
   ]
  },
  {
   "cell_type": "code",
   "execution_count": 9,
   "metadata": {},
   "outputs": [
    {
     "data": {
      "text/plain": [
       "Language : {'a', 'p1', 'q1', 'q', 'p'}\n",
       "\n",
       "Assumptions : {'a'}\n",
       "\n",
       "Rules:\n",
       "R0: p1 <- a\n",
       "R1: p <- a\n",
       "R2: p <- q1\n",
       "R3: q <- p1\n",
       "\n",
       "Contraries:\n",
       "\n",
       "\n",
       "Preferences:\n",
       "\n",
       "\n",
       "Arguments:\n",
       "A0: ('a',) |- p1\n",
       "A1: ('a',) |- p\n",
       "A2: ('a',) |- q\n",
       "A3: ('a',) |- a\n",
       "\n",
       "Attacks:\n",
       "\n",
       "Normal Attacks:\n",
       "\n",
       "Reverse Attacks:"
      ]
     },
     "execution_count": 9,
     "metadata": {},
     "output_type": "execute_result"
    }
   ],
   "source": [
    "language = \"a,p,q\"\n",
    "rules = \"(p,a),(p,q),(q,p)\"\n",
    "assumptions = \"a\"\n",
    "contraries = \"\"\n",
    "\n",
    "ABA_Generator.create_arguments(language, assumptions, rules, contraries, convert_to=ConvertTo.NON_CIRCULAR)"
   ]
  },
  {
   "cell_type": "markdown",
   "metadata": {},
   "source": [
    "#### 4B.1 The ABA+ framework\n",
    "\n",
    "Let us consider the following ABA+ framework $(L,R,A,\\bar{\\ }, \\leq)$, where:\n",
    "\n",
    "- $L = \\{ \\alpha, \\beta, leave, stay\\}$\n",
    "- $A = \\{ \\alpha, \\beta\\}$\n",
    "- $R = \\{ leave \\leftarrow \\alpha, stay \\leftarrow \\beta \\}$\n",
    "- $\\overline{\\alpha} = stay, \\overline{\\beta} = leave$\n",
    "- $\\alpha < \\beta$"
   ]
  },
  {
   "cell_type": "code",
   "execution_count": 10,
   "metadata": {},
   "outputs": [
    {
     "data": {
      "text/plain": [
       "Language : {'beta', 'stay', 'leave', 'alpha'}\n",
       "\n",
       "Assumptions : {'beta', 'alpha'}\n",
       "\n",
       "Rules:\n",
       "R0: leave <- alpha\n",
       "R1: stay <- beta\n",
       "\n",
       "Contraries:\n",
       "C0: Contrary de alpha = stay\n",
       "C1: Contrary de beta = leave\n",
       "\n",
       "Preferences:\n",
       "P0:alpha < beta\n",
       "\n",
       "Arguments:\n",
       "A0: ('alpha',) |- leave\n",
       "A1: ('beta',) |- stay\n",
       "A2: ('beta',) |- beta\n",
       "A3: ('alpha',) |- alpha\n",
       "\n",
       "Attacks:\n",
       "\n",
       "Normal Attacks:\n",
       "('beta',) -> ('beta', 'alpha')\n",
       "('beta',) -> ('alpha',)\n",
       "('beta', 'alpha') -> ('beta', 'alpha')\n",
       "('beta', 'alpha') -> ('alpha',)\n",
       "Reverse Attacks:\n",
       "('beta',) -> ('beta', 'alpha')\n",
       "('beta',) -> ('alpha',)\n",
       "('beta', 'alpha') -> ('beta', 'alpha')\n",
       "('beta', 'alpha') -> ('alpha',)"
      ]
     },
     "execution_count": 10,
     "metadata": {},
     "output_type": "execute_result"
    }
   ],
   "source": [
    "language = \"alpha,beta,leave,stay\"\n",
    "assumptions = \"alpha,beta\"\n",
    "rules=\"(leave,alpha),(stay,beta)\"\n",
    "contraries = \"(alpha,stay),(beta,leave)\"\n",
    "pref =\"(alpha,beta)\"\n",
    "\n",
    "ABA_Generator.create_normal_reverse_attacks(language, assumptions, rules, contraries, preferences=pref)"
   ]
  },
  {
   "cell_type": "markdown",
   "metadata": {},
   "source": [
    "- $L = \\{ \\alpha, \\beta, leave, stay, \\gamma \\}$\n",
    "- $A = \\{ \\alpha, \\beta, \\gamma \\}$\n",
    "- $R = \\{ leave \\leftarrow \\alpha, \\gamma;\\\\ stay \\leftarrow \\beta, \\gamma \\}$\n",
    "- $\\overline{\\alpha} = stay, \\overline{\\beta} = leave$\n",
    "- $\\alpha < \\beta$ and $\\alpha < \\gamma$"
   ]
  },
  {
   "cell_type": "code",
   "execution_count": 12,
   "metadata": {},
   "outputs": [
    {
     "data": {
      "text/plain": [
       "Language : {'gamma', 'leave', 'alpha', 'beta', 'stay'}\n",
       "\n",
       "Assumptions : {'beta', 'gamma', 'alpha'}\n",
       "\n",
       "Rules:\n",
       "R0: leave <- ('alpha', 'gamma')\n",
       "R1: stay <- ('beta', 'gamma')\n",
       "\n",
       "Contraries:\n",
       "C0: Contrary de alpha = stay\n",
       "C1: Contrary de beta = leave\n",
       "\n",
       "Preferences:\n",
       "P0:alpha < beta\n",
       "P1:alpha < gamma\n",
       "\n",
       "Arguments:\n",
       "A0: ('alpha', 'gamma') |- leave\n",
       "A1: ('beta', 'gamma') |- stay\n",
       "A2: ('beta',) |- beta\n",
       "A3: ('gamma',) |- gamma\n",
       "A4: ('alpha',) |- alpha\n",
       "\n",
       "Attacks:\n",
       "\n",
       "Normal Attacks:\n",
       "('beta', 'gamma', 'alpha') -> ('gamma', 'alpha')\n",
       "('beta', 'gamma') -> ('alpha',)\n",
       "('beta', 'gamma') -> ('gamma', 'alpha')\n",
       "('beta', 'gamma', 'alpha') -> ('beta', 'alpha')\n",
       "('beta', 'gamma') -> ('beta', 'alpha')\n",
       "('beta', 'gamma') -> ('beta', 'gamma', 'alpha')\n",
       "('beta', 'gamma', 'alpha') -> ('alpha',)\n",
       "('beta', 'gamma', 'alpha') -> ('beta', 'gamma', 'alpha')\n",
       "Reverse Attacks:\n",
       "('beta', 'gamma', 'alpha') -> ('gamma', 'alpha')\n",
       "('beta',) -> ('beta', 'gamma', 'alpha')\n",
       "('beta', 'gamma') -> ('gamma', 'alpha')\n",
       "('beta',) -> ('gamma', 'alpha')\n",
       "('beta', 'gamma') -> ('beta', 'gamma', 'alpha')\n",
       "('beta', 'alpha') -> ('gamma', 'alpha')\n",
       "('beta', 'gamma', 'alpha') -> ('beta', 'gamma', 'alpha')\n",
       "('beta', 'alpha') -> ('beta', 'gamma', 'alpha')"
      ]
     },
     "execution_count": 12,
     "metadata": {},
     "output_type": "execute_result"
    }
   ],
   "source": [
    "language = \"alpha,beta,leave,stay,gamma\"\n",
    "assumptions = \"alpha,beta,gamma\"\n",
    "rules=\"(leave,(alpha,gamma)),(stay,(beta,gamma))\"\n",
    "contraries = \"(alpha,stay),(beta,leave)\"\n",
    "pref =\"(alpha,(beta,gamma))\"\n",
    "\n",
    "ABA_Generator.create_normal_reverse_attacks(language, assumptions, rules, contraries, preferences=pref)"
   ]
  }
 ],
 "metadata": {
  "kernelspec": {
   "display_name": "tpdeeprl2024",
   "language": "python",
   "name": "python3"
  },
  "language_info": {
   "codemirror_mode": {
    "name": "ipython",
    "version": 3
   },
   "file_extension": ".py",
   "mimetype": "text/x-python",
   "name": "python",
   "nbconvert_exporter": "python",
   "pygments_lexer": "ipython3",
   "version": "3.10.13"
  }
 },
 "nbformat": 4,
 "nbformat_minor": 2
}
