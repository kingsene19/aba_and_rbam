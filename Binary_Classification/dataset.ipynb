{
 "cells": [
  {
   "cell_type": "code",
   "execution_count": 1,
   "id": "d94188f1-ba88-4bff-87ee-534cd0b60f1c",
   "metadata": {},
   "outputs": [],
   "source": [
    "# !pip install nltk pandas seaborn scikit-learn langdetect transformers sacremoses --quiet\n",
    "# !pip3 install torch torchvision torchaudio --index-url https://download.pytorch.org/whl/cu118 --quiet"
   ]
  },
  {
   "cell_type": "markdown",
   "id": "6a731a19-415f-4f67-a1d4-b682f92aed98",
   "metadata": {},
   "source": [
    "### Library Imports"
   ]
  },
  {
   "cell_type": "code",
   "execution_count": 2,
   "id": "21150152-e62c-4013-a1f3-263236c32e57",
   "metadata": {},
   "outputs": [
    {
     "name": "stderr",
     "output_type": "stream",
     "text": [
      "[nltk_data] Downloading package punkt to /root/nltk_data...\n",
      "[nltk_data]   Package punkt is already up-to-date!\n",
      "[nltk_data] Downloading package punkt_tab to /root/nltk_data...\n",
      "[nltk_data]   Package punkt_tab is already up-to-date!\n",
      "[nltk_data] Downloading package stopwords to /root/nltk_data...\n",
      "[nltk_data]   Package stopwords is already up-to-date!\n",
      "[nltk_data] Downloading package wordnet to /root/nltk_data...\n",
      "[nltk_data]   Package wordnet is already up-to-date!\n"
     ]
    }
   ],
   "source": [
    "import re\n",
    "import nltk\n",
    "import string\n",
    "import pandas as pd\n",
    "import numpy as np\n",
    "import matplotlib.pyplot as plt\n",
    "import seaborn as sns\n",
    "import torch\n",
    "from nltk.corpus import stopwords\n",
    "from nltk.tokenize import word_tokenize\n",
    "from nltk.stem import WordNetLemmatizer\n",
    "from torch import nn\n",
    "from torch.utils.data import DataLoader, Dataset\n",
    "from transformers import BertTokenizer, BertModel, BertForSequenceClassification, AdamW, get_linear_schedule_with_warmup, GPT2ForSequenceClassification, GPT2Tokenizer\n",
    "from sklearn.preprocessing import LabelEncoder\n",
    "from sklearn.model_selection import train_test_split\n",
    "from sklearn.feature_extraction.text import TfidfVectorizer\n",
    "from sklearn.metrics.pairwise import cosine_similarity\n",
    "from sklearn.metrics import accuracy_score, classification_report, ConfusionMatrixDisplay\n",
    "from langdetect import detect, DetectorFactory\n",
    "import warnings\n",
    "\n",
    "# Download necessary nltk resources\n",
    "nltk.download('punkt')\n",
    "nltk.download(\"punkt_tab\")\n",
    "nltk.download('stopwords')\n",
    "nltk.download('wordnet')\n",
    "\n",
    "device = torch.device(\"cuda\") if torch.cuda.is_available() else torch.device(\"cpu\")\n",
    "warnings.filterwarnings(\"ignore\")\n",
    "DetectorFactory.seed = 0"
   ]
  },
  {
   "cell_type": "code",
   "execution_count": 3,
   "id": "249dd6bd-92c5-4547-87d2-6c61a9c84dc0",
   "metadata": {},
   "outputs": [
    {
     "data": {
      "text/plain": [
       "device(type='cuda')"
      ]
     },
     "execution_count": 3,
     "metadata": {},
     "output_type": "execute_result"
    }
   ],
   "source": [
    "device"
   ]
  },
  {
   "cell_type": "markdown",
   "id": "6b184aa1-f302-4e8c-a037-000dd6442268",
   "metadata": {},
   "source": [
    "### Loading and cleaning the dataset"
   ]
  },
  {
   "cell_type": "code",
   "execution_count": 4,
   "id": "1fc8dcc4-5dac-4a64-b1ad-57f9d2dc1008",
   "metadata": {},
   "outputs": [
    {
     "data": {
      "text/html": [
       "<div>\n",
       "<style scoped>\n",
       "    .dataframe tbody tr th:only-of-type {\n",
       "        vertical-align: middle;\n",
       "    }\n",
       "\n",
       "    .dataframe tbody tr th {\n",
       "        vertical-align: top;\n",
       "    }\n",
       "\n",
       "    .dataframe thead th {\n",
       "        text-align: right;\n",
       "    }\n",
       "</style>\n",
       "<table border=\"1\" class=\"dataframe\">\n",
       "  <thead>\n",
       "    <tr style=\"text-align: right;\">\n",
       "      <th></th>\n",
       "      <th>Argument1</th>\n",
       "      <th>Argument2</th>\n",
       "      <th>Relation</th>\n",
       "    </tr>\n",
       "  </thead>\n",
       "  <tbody>\n",
       "    <tr>\n",
       "      <th>0</th>\n",
       "      <td>All deductions and exemptions should be elimin...</td>\n",
       "      <td>The Stipend Model : Instead of the standard de...</td>\n",
       "      <td>Support</td>\n",
       "    </tr>\n",
       "    <tr>\n",
       "      <th>1</th>\n",
       "      <td>The Stipend Model : Instead of the standard de...</td>\n",
       "      <td>Citizens who don't make enough to support them...</td>\n",
       "      <td>Support</td>\n",
       "    </tr>\n",
       "    <tr>\n",
       "      <th>2</th>\n",
       "      <td>Citizens who don't make enough to support them...</td>\n",
       "      <td>Homelessness would no longer be an issue. Home...</td>\n",
       "      <td>Support</td>\n",
       "    </tr>\n",
       "    <tr>\n",
       "      <th>3</th>\n",
       "      <td>The Stipend Model : Instead of the standard de...</td>\n",
       "      <td>The Stipend System would help people who wish ...</td>\n",
       "      <td>Support</td>\n",
       "    </tr>\n",
       "    <tr>\n",
       "      <th>4</th>\n",
       "      <td>The Stipend Model : Instead of the standard de...</td>\n",
       "      <td>The Stipend System would support those at the ...</td>\n",
       "      <td>Support</td>\n",
       "    </tr>\n",
       "    <tr>\n",
       "      <th>...</th>\n",
       "      <td>...</td>\n",
       "      <td>...</td>\n",
       "      <td>...</td>\n",
       "    </tr>\n",
       "    <tr>\n",
       "      <th>67188</th>\n",
       "      <td>A zero carb diet consists of mostly fatty meat...</td>\n",
       "      <td>All dietary fiber [149], which is vital for ma...</td>\n",
       "      <td>Support</td>\n",
       "    </tr>\n",
       "    <tr>\n",
       "      <th>67189</th>\n",
       "      <td>A zero carbohydrate diet [138].</td>\n",
       "      <td>A zero-carbohydrate diet is bad for the enviro...</td>\n",
       "      <td>Attack</td>\n",
       "    </tr>\n",
       "    <tr>\n",
       "      <th>67190</th>\n",
       "      <td>A zero-carbohydrate diet is bad for the enviro...</td>\n",
       "      <td>A zero carbohydrate diet produces significantl...</td>\n",
       "      <td>Support</td>\n",
       "    </tr>\n",
       "    <tr>\n",
       "      <th>67191</th>\n",
       "      <td>A zero-carbohydrate diet is bad for the enviro...</td>\n",
       "      <td>New technologies could alleviate the extent of...</td>\n",
       "      <td>Attack</td>\n",
       "    </tr>\n",
       "    <tr>\n",
       "      <th>67192</th>\n",
       "      <td>New technologies could alleviate the extent of...</td>\n",
       "      <td>Lab grown meat currently poses a number of hea...</td>\n",
       "      <td>Attack</td>\n",
       "    </tr>\n",
       "  </tbody>\n",
       "</table>\n",
       "<p>67193 rows × 3 columns</p>\n",
       "</div>"
      ],
      "text/plain": [
       "                                               Argument1  \\\n",
       "0      All deductions and exemptions should be elimin...   \n",
       "1      The Stipend Model : Instead of the standard de...   \n",
       "2      Citizens who don't make enough to support them...   \n",
       "3      The Stipend Model : Instead of the standard de...   \n",
       "4      The Stipend Model : Instead of the standard de...   \n",
       "...                                                  ...   \n",
       "67188  A zero carb diet consists of mostly fatty meat...   \n",
       "67189                    A zero carbohydrate diet [138].   \n",
       "67190  A zero-carbohydrate diet is bad for the enviro...   \n",
       "67191  A zero-carbohydrate diet is bad for the enviro...   \n",
       "67192  New technologies could alleviate the extent of...   \n",
       "\n",
       "                                               Argument2 Relation  \n",
       "0      The Stipend Model : Instead of the standard de...  Support  \n",
       "1      Citizens who don't make enough to support them...  Support  \n",
       "2      Homelessness would no longer be an issue. Home...  Support  \n",
       "3      The Stipend System would help people who wish ...  Support  \n",
       "4      The Stipend System would support those at the ...  Support  \n",
       "...                                                  ...      ...  \n",
       "67188  All dietary fiber [149], which is vital for ma...  Support  \n",
       "67189  A zero-carbohydrate diet is bad for the enviro...   Attack  \n",
       "67190  A zero carbohydrate diet produces significantl...  Support  \n",
       "67191  New technologies could alleviate the extent of...   Attack  \n",
       "67192  Lab grown meat currently poses a number of hea...   Attack  \n",
       "\n",
       "[67193 rows x 3 columns]"
      ]
     },
     "execution_count": 4,
     "metadata": {},
     "output_type": "execute_result"
    }
   ],
   "source": [
    "path = \"combined_arguments.csv\"\n",
    "df = pd.read_csv(path)\n",
    "df"
   ]
  },
  {
   "cell_type": "code",
   "execution_count": 5,
   "id": "80b52412-5fbd-4c70-9ea2-2147a909976b",
   "metadata": {},
   "outputs": [],
   "source": [
    "def clean_text(text):\n",
    "    # Remove references such as -> See 1.1.3.1.3.1.\n",
    "    text = re.sub(r'-> See (\\d+\\.)+(\\d+)(,\\s*)?', '', text)\n",
    "    # Remove patterns like [12], [1], [138]\n",
    "    text = re.sub(r'\\[\\d+\\]', '', text)\n",
    "    if text:\n",
    "        # Lowercase\n",
    "        text = text.lower()\n",
    "        # Remove punctuation\n",
    "        text = re.sub(r'[^\\w\\s]', '', text)\n",
    "        text = re.sub(f\"[{string.punctuation}]\", \"\", text)\n",
    "        # Tokenize the text\n",
    "        tokens = word_tokenize(text.lower())\n",
    "        # Remove stopwords\n",
    "        stop_words = set(stopwords.words('english'))\n",
    "        tokens = [word for word in tokens if word not in stop_words]\n",
    "        text = \" \".join(token for token in tokens)\n",
    "    return text"
   ]
  },
  {
   "cell_type": "code",
   "execution_count": 6,
   "id": "0330a2b8-f46f-4ee2-a98f-4d7833a0207d",
   "metadata": {},
   "outputs": [],
   "source": [
    "df['Argument1'] = df['Argument1'].apply(clean_text)\n",
    "df['Argument2'] = df['Argument2'].apply(clean_text)"
   ]
  },
  {
   "cell_type": "markdown",
   "id": "af51f0b8-caa9-485c-aa52-8f30ac9b8523",
   "metadata": {},
   "source": [
    "Remove any row with empty Arg1, Arg2 or Relation"
   ]
  },
  {
   "cell_type": "code",
   "execution_count": 7,
   "id": "f341d067-1598-435d-b8cd-9daeaa83593b",
   "metadata": {},
   "outputs": [
    {
     "data": {
      "text/html": [
       "<div>\n",
       "<style scoped>\n",
       "    .dataframe tbody tr th:only-of-type {\n",
       "        vertical-align: middle;\n",
       "    }\n",
       "\n",
       "    .dataframe tbody tr th {\n",
       "        vertical-align: top;\n",
       "    }\n",
       "\n",
       "    .dataframe thead th {\n",
       "        text-align: right;\n",
       "    }\n",
       "</style>\n",
       "<table border=\"1\" class=\"dataframe\">\n",
       "  <thead>\n",
       "    <tr style=\"text-align: right;\">\n",
       "      <th></th>\n",
       "      <th>Argument1</th>\n",
       "      <th>Argument2</th>\n",
       "      <th>Relation</th>\n",
       "    </tr>\n",
       "  </thead>\n",
       "  <tbody>\n",
       "    <tr>\n",
       "      <th>0</th>\n",
       "      <td>deductions exemptions eliminated us system inc...</td>\n",
       "      <td>stipend model instead standard deduction provi...</td>\n",
       "      <td>Support</td>\n",
       "    </tr>\n",
       "    <tr>\n",
       "      <th>1</th>\n",
       "      <td>stipend model instead standard deduction provi...</td>\n",
       "      <td>citizens dont make enough support would enough...</td>\n",
       "      <td>Support</td>\n",
       "    </tr>\n",
       "    <tr>\n",
       "      <th>2</th>\n",
       "      <td>citizens dont make enough support would enough...</td>\n",
       "      <td>homelessness would longer issue homeless encam...</td>\n",
       "      <td>Support</td>\n",
       "    </tr>\n",
       "    <tr>\n",
       "      <th>3</th>\n",
       "      <td>stipend model instead standard deduction provi...</td>\n",
       "      <td>stipend system would help people wish seek par...</td>\n",
       "      <td>Support</td>\n",
       "    </tr>\n",
       "    <tr>\n",
       "      <th>4</th>\n",
       "      <td>stipend model instead standard deduction provi...</td>\n",
       "      <td>stipend system would support lowest end income...</td>\n",
       "      <td>Support</td>\n",
       "    </tr>\n",
       "    <tr>\n",
       "      <th>...</th>\n",
       "      <td>...</td>\n",
       "      <td>...</td>\n",
       "      <td>...</td>\n",
       "    </tr>\n",
       "    <tr>\n",
       "      <th>67188</th>\n",
       "      <td>zero carb diet consists mostly fatty meat wate...</td>\n",
       "      <td>dietary fiber vital maintaining bacteria colon...</td>\n",
       "      <td>Support</td>\n",
       "    </tr>\n",
       "    <tr>\n",
       "      <th>67189</th>\n",
       "      <td>zero carbohydrate diet</td>\n",
       "      <td>zerocarbohydrate diet bad environment indirect...</td>\n",
       "      <td>Attack</td>\n",
       "    </tr>\n",
       "    <tr>\n",
       "      <th>67190</th>\n",
       "      <td>zerocarbohydrate diet bad environment indirect...</td>\n",
       "      <td>zero carbohydrate diet produces significantly ...</td>\n",
       "      <td>Support</td>\n",
       "    </tr>\n",
       "    <tr>\n",
       "      <th>67191</th>\n",
       "      <td>zerocarbohydrate diet bad environment indirect...</td>\n",
       "      <td>new technologies could alleviate extent damage...</td>\n",
       "      <td>Attack</td>\n",
       "    </tr>\n",
       "    <tr>\n",
       "      <th>67192</th>\n",
       "      <td>new technologies could alleviate extent damage...</td>\n",
       "      <td>lab grown meat currently poses number health e...</td>\n",
       "      <td>Attack</td>\n",
       "    </tr>\n",
       "  </tbody>\n",
       "</table>\n",
       "<p>64450 rows × 3 columns</p>\n",
       "</div>"
      ],
      "text/plain": [
       "                                               Argument1  \\\n",
       "0      deductions exemptions eliminated us system inc...   \n",
       "1      stipend model instead standard deduction provi...   \n",
       "2      citizens dont make enough support would enough...   \n",
       "3      stipend model instead standard deduction provi...   \n",
       "4      stipend model instead standard deduction provi...   \n",
       "...                                                  ...   \n",
       "67188  zero carb diet consists mostly fatty meat wate...   \n",
       "67189                             zero carbohydrate diet   \n",
       "67190  zerocarbohydrate diet bad environment indirect...   \n",
       "67191  zerocarbohydrate diet bad environment indirect...   \n",
       "67192  new technologies could alleviate extent damage...   \n",
       "\n",
       "                                               Argument2 Relation  \n",
       "0      stipend model instead standard deduction provi...  Support  \n",
       "1      citizens dont make enough support would enough...  Support  \n",
       "2      homelessness would longer issue homeless encam...  Support  \n",
       "3      stipend system would help people wish seek par...  Support  \n",
       "4      stipend system would support lowest end income...  Support  \n",
       "...                                                  ...      ...  \n",
       "67188  dietary fiber vital maintaining bacteria colon...  Support  \n",
       "67189  zerocarbohydrate diet bad environment indirect...   Attack  \n",
       "67190  zero carbohydrate diet produces significantly ...  Support  \n",
       "67191  new technologies could alleviate extent damage...   Attack  \n",
       "67192  lab grown meat currently poses number health e...   Attack  \n",
       "\n",
       "[64450 rows x 3 columns]"
      ]
     },
     "execution_count": 7,
     "metadata": {},
     "output_type": "execute_result"
    }
   ],
   "source": [
    "df = df[~df.applymap(lambda x: x == '').any(axis=1)]\n",
    "df"
   ]
  },
  {
   "cell_type": "markdown",
   "id": "67246f19-4905-42d1-b792-39c1d072417a",
   "metadata": {},
   "source": [
    "### Data Exploration"
   ]
  },
  {
   "cell_type": "markdown",
   "id": "1180947e-c4a2-435a-a72c-5ff31b7a3517",
   "metadata": {},
   "source": [
    "Plot the distribution of the relations"
   ]
  },
  {
   "cell_type": "code",
   "execution_count": 8,
   "id": "2815effe-c255-4a87-add9-95b504eacabd",
   "metadata": {},
   "outputs": [
    {
     "data": {
      "image/png": "[encoded data removed]",
      "text/plain": [
       "<Figure size 640x480 with 1 Axes>"
      ]
     },
     "metadata": {},
     "output_type": "display_data"
    }
   ],
   "source": [
    "# Plot the graph\n",
    "df.groupby('Relation').size().plot(kind='barh', color=sns.palettes.mpl_palette('Dark2'))\n",
    "plt.gca().spines[['top', 'right',]].set_visible(False)"
   ]
  },
  {
   "cell_type": "markdown",
   "id": "5d39b9a5-7976-4349-8064-5f3f6547ca75",
   "metadata": {},
   "source": [
    "Visualise the similarity between pairs of arguments based on relation"
   ]
  },
  {
   "cell_type": "code",
   "execution_count": 9,
   "id": "699d3cea-bc55-4b3b-952c-95e3ea7f961c",
   "metadata": {},
   "outputs": [
    {
     "data": {
      "text/plain": [
       "<Figure size 1500x500 with 0 Axes>"
      ]
     },
     "metadata": {},
     "output_type": "display_data"
    },
    {
     "data": {
      "image/png": "[encoded data removed]",
      "text/plain": [
       "<Figure size 1200x240 with 1 Axes>"
      ]
     },
     "metadata": {},
     "output_type": "display_data"
    }
   ],
   "source": [
    "# Vectorize arguments using TF-IDF\n",
    "tfidf_vectorizer = TfidfVectorizer()\n",
    "\n",
    "# Concatenate arguments into a single list for TF-IDF fitting\n",
    "all_text = df['Argument1'].tolist() + df['Argument2'].tolist()\n",
    "tfidf_vectorizer.fit(all_text)\n",
    "\n",
    "# Transform both argument columns into TF-IDF matrices\n",
    "tfidf_arg1 = tfidf_vectorizer.transform(df['Argument1'])\n",
    "tfidf_arg2 = tfidf_vectorizer.transform(df['Argument2'])\n",
    "\n",
    "# Calculate cosine similarity between argument pairs\n",
    "df['cosine_similarity'] = [cosine_similarity(tfidf_arg1[i], tfidf_arg2[i])[0][0] for i in range(len(df))]\n",
    "\n",
    "plt.figure(figsize=(15, 5))\n",
    "\n",
    "# Boxplot for cosine similarity distribution based on Relation\n",
    "figsize = (12, 1.2 * len(df['Relation'].unique()))\n",
    "plt.figure(figsize=figsize)\n",
    "sns.violinplot(df, x='cosine_similarity', y='Relation', inner='box', palette='Dark2')\n",
    "sns.despine(top=True, right=True, bottom=True, left=True)"
   ]
  },
  {
   "cell_type": "markdown",
   "id": "e8a180a2-d9b2-4970-80ad-33cde4453ddf",
   "metadata": {},
   "source": [
    "Languages used in the arguments"
   ]
  },
  {
   "cell_type": "code",
   "execution_count": 10,
   "id": "1b7dae3e-5da3-494b-b2b6-c5a029694287",
   "metadata": {},
   "outputs": [],
   "source": [
    "def detect_language(text):\n",
    "    try:\n",
    "        return detect(text)\n",
    "    except:\n",
    "        return 'unk'\n",
    "    \n",
    "df['Language1'] = df['Argument1'].apply(detect_language)\n",
    "df['Language2'] = df['Argument2'].apply(detect_language)"
   ]
  },
  {
   "cell_type": "code",
   "execution_count": 11,
   "id": "4b291a8c-c252-4082-b9e2-75ddf1217016",
   "metadata": {},
   "outputs": [
    {
     "data": {
      "image/png": "[encoded data removed]",
      "text/plain": [
       "<Figure size 800x600 with 1 Axes>"
      ]
     },
     "metadata": {},
     "output_type": "display_data"
    }
   ],
   "source": [
    "plt.figure(figsize=(8, 6))\n",
    "language_counts = df[\"Language1\"].value_counts()[:5]\n",
    "plt.pie(language_counts, labels=language_counts.index, autopct='%1.1f%%', startangle=140)\n",
    "\n",
    "plt.title('Language in Argument 1')\n",
    "plt.gca().spines[['top', 'right']].set_visible(False)\n",
    "plt.legend(language_counts.index, title='Languages', loc='upper right')\n",
    "\n",
    "plt.show()"
   ]
  },
  {
   "cell_type": "code",
   "execution_count": 12,
   "id": "93af27c0-c45f-484a-b893-c8ee7dcb8b26",
   "metadata": {},
   "outputs": [
    {
     "data": {
      "image/png": "[encoded data removed]",
      "text/plain": [
       "<Figure size 800x600 with 1 Axes>"
      ]
     },
     "metadata": {},
     "output_type": "display_data"
    }
   ],
   "source": [
    "plt.figure(figsize=(8, 6))\n",
    "language_counts = df[\"Language2\"].value_counts()[:5]\n",
    "plt.pie(language_counts, labels=language_counts.index, autopct='%1.1f%%', startangle=140)\n",
    "\n",
    "plt.title('Language in Argument 2')\n",
    "plt.gca().spines[['top', 'right']].set_visible(False)\n",
    "plt.legend(language_counts.index, title='Languages', loc='upper right')\n",
    "\n",
    "plt.show()"
   ]
  },
  {
   "cell_type": "code",
   "execution_count": 13,
   "id": "08b5f5af-7625-44cd-8214-f105f6948fa3",
   "metadata": {},
   "outputs": [
    {
     "data": {
      "text/html": [
       "<div>\n",
       "<style scoped>\n",
       "    .dataframe tbody tr th:only-of-type {\n",
       "        vertical-align: middle;\n",
       "    }\n",
       "\n",
       "    .dataframe tbody tr th {\n",
       "        vertical-align: top;\n",
       "    }\n",
       "\n",
       "    .dataframe thead th {\n",
       "        text-align: right;\n",
       "    }\n",
       "</style>\n",
       "<table border=\"1\" class=\"dataframe\">\n",
       "  <thead>\n",
       "    <tr style=\"text-align: right;\">\n",
       "      <th></th>\n",
       "      <th>Argument1</th>\n",
       "      <th>Argument2</th>\n",
       "      <th>Relation</th>\n",
       "      <th>cosine_similarity</th>\n",
       "      <th>Language1</th>\n",
       "      <th>Language2</th>\n",
       "    </tr>\n",
       "  </thead>\n",
       "  <tbody>\n",
       "    <tr>\n",
       "      <th>0</th>\n",
       "      <td>deductions exemptions eliminated us system inc...</td>\n",
       "      <td>stipend model instead standard deduction provi...</td>\n",
       "      <td>Support</td>\n",
       "      <td>0.084879</td>\n",
       "      <td>en</td>\n",
       "      <td>en</td>\n",
       "    </tr>\n",
       "    <tr>\n",
       "      <th>1</th>\n",
       "      <td>stipend model instead standard deduction provi...</td>\n",
       "      <td>citizens dont make enough support would enough...</td>\n",
       "      <td>Support</td>\n",
       "      <td>0.181638</td>\n",
       "      <td>en</td>\n",
       "      <td>en</td>\n",
       "    </tr>\n",
       "    <tr>\n",
       "      <th>2</th>\n",
       "      <td>citizens dont make enough support would enough...</td>\n",
       "      <td>homelessness would longer issue homeless encam...</td>\n",
       "      <td>Support</td>\n",
       "      <td>0.046633</td>\n",
       "      <td>en</td>\n",
       "      <td>en</td>\n",
       "    </tr>\n",
       "    <tr>\n",
       "      <th>3</th>\n",
       "      <td>stipend model instead standard deduction provi...</td>\n",
       "      <td>stipend system would help people wish seek par...</td>\n",
       "      <td>Support</td>\n",
       "      <td>0.126692</td>\n",
       "      <td>en</td>\n",
       "      <td>en</td>\n",
       "    </tr>\n",
       "    <tr>\n",
       "      <th>4</th>\n",
       "      <td>stipend model instead standard deduction provi...</td>\n",
       "      <td>stipend system would support lowest end income...</td>\n",
       "      <td>Support</td>\n",
       "      <td>0.129821</td>\n",
       "      <td>en</td>\n",
       "      <td>en</td>\n",
       "    </tr>\n",
       "    <tr>\n",
       "      <th>...</th>\n",
       "      <td>...</td>\n",
       "      <td>...</td>\n",
       "      <td>...</td>\n",
       "      <td>...</td>\n",
       "      <td>...</td>\n",
       "      <td>...</td>\n",
       "    </tr>\n",
       "    <tr>\n",
       "      <th>67187</th>\n",
       "      <td>diet completely lacking carbohydrates unhealthy</td>\n",
       "      <td>zero carb diet consists mostly fatty meat wate...</td>\n",
       "      <td>Support</td>\n",
       "      <td>0.068543</td>\n",
       "      <td>en</td>\n",
       "      <td>en</td>\n",
       "    </tr>\n",
       "    <tr>\n",
       "      <th>67188</th>\n",
       "      <td>zero carb diet consists mostly fatty meat wate...</td>\n",
       "      <td>dietary fiber vital maintaining bacteria colon...</td>\n",
       "      <td>Support</td>\n",
       "      <td>0.073980</td>\n",
       "      <td>en</td>\n",
       "      <td>en</td>\n",
       "    </tr>\n",
       "    <tr>\n",
       "      <th>67190</th>\n",
       "      <td>zerocarbohydrate diet bad environment indirect...</td>\n",
       "      <td>zero carbohydrate diet produces significantly ...</td>\n",
       "      <td>Support</td>\n",
       "      <td>0.077998</td>\n",
       "      <td>en</td>\n",
       "      <td>en</td>\n",
       "    </tr>\n",
       "    <tr>\n",
       "      <th>67191</th>\n",
       "      <td>zerocarbohydrate diet bad environment indirect...</td>\n",
       "      <td>new technologies could alleviate extent damage...</td>\n",
       "      <td>Attack</td>\n",
       "      <td>0.000000</td>\n",
       "      <td>en</td>\n",
       "      <td>en</td>\n",
       "    </tr>\n",
       "    <tr>\n",
       "      <th>67192</th>\n",
       "      <td>new technologies could alleviate extent damage...</td>\n",
       "      <td>lab grown meat currently poses number health e...</td>\n",
       "      <td>Attack</td>\n",
       "      <td>0.393101</td>\n",
       "      <td>en</td>\n",
       "      <td>en</td>\n",
       "    </tr>\n",
       "  </tbody>\n",
       "</table>\n",
       "<p>56977 rows × 6 columns</p>\n",
       "</div>"
      ],
      "text/plain": [
       "                                               Argument1  \\\n",
       "0      deductions exemptions eliminated us system inc...   \n",
       "1      stipend model instead standard deduction provi...   \n",
       "2      citizens dont make enough support would enough...   \n",
       "3      stipend model instead standard deduction provi...   \n",
       "4      stipend model instead standard deduction provi...   \n",
       "...                                                  ...   \n",
       "67187    diet completely lacking carbohydrates unhealthy   \n",
       "67188  zero carb diet consists mostly fatty meat wate...   \n",
       "67190  zerocarbohydrate diet bad environment indirect...   \n",
       "67191  zerocarbohydrate diet bad environment indirect...   \n",
       "67192  new technologies could alleviate extent damage...   \n",
       "\n",
       "                                               Argument2 Relation  \\\n",
       "0      stipend model instead standard deduction provi...  Support   \n",
       "1      citizens dont make enough support would enough...  Support   \n",
       "2      homelessness would longer issue homeless encam...  Support   \n",
       "3      stipend system would help people wish seek par...  Support   \n",
       "4      stipend system would support lowest end income...  Support   \n",
       "...                                                  ...      ...   \n",
       "67187  zero carb diet consists mostly fatty meat wate...  Support   \n",
       "67188  dietary fiber vital maintaining bacteria colon...  Support   \n",
       "67190  zero carbohydrate diet produces significantly ...  Support   \n",
       "67191  new technologies could alleviate extent damage...   Attack   \n",
       "67192  lab grown meat currently poses number health e...   Attack   \n",
       "\n",
       "       cosine_similarity Language1 Language2  \n",
       "0               0.084879        en        en  \n",
       "1               0.181638        en        en  \n",
       "2               0.046633        en        en  \n",
       "3               0.126692        en        en  \n",
       "4               0.129821        en        en  \n",
       "...                  ...       ...       ...  \n",
       "67187           0.068543        en        en  \n",
       "67188           0.073980        en        en  \n",
       "67190           0.077998        en        en  \n",
       "67191           0.000000        en        en  \n",
       "67192           0.393101        en        en  \n",
       "\n",
       "[56977 rows x 6 columns]"
      ]
     },
     "execution_count": 13,
     "metadata": {},
     "output_type": "execute_result"
    }
   ],
   "source": [
    "df = df[(df[\"Language1\"] == 'en') & (df[\"Language2\"] == 'en')]\n",
    "df"
   ]
  },
  {
   "cell_type": "markdown",
   "id": "ed43cb6f-8a6c-4a92-a53f-3f954fb4f6ff",
   "metadata": {},
   "source": [
    "### Sauvegarde du jeu de données"
   ]
  },
  {
   "cell_type": "code",
   "execution_count": 14,
   "id": "e532a52b-1817-4777-bf38-99f7774b35ae",
   "metadata": {},
   "outputs": [],
   "source": [
    "df.to_csv(\"arguments_dataset_cleaned.csv\")"
   ]
  }
 ],
 "metadata": {
  "kernelspec": {
   "display_name": "Python 3 (ipykernel)",
   "language": "python",
   "name": "python3"
  },
  "language_info": {
   "codemirror_mode": {
    "name": "ipython",
    "version": 3
   },
   "file_extension": ".py",
   "mimetype": "text/x-python",
   "name": "python",
   "nbconvert_exporter": "python",
   "pygments_lexer": "ipython3",
   "version": "3.10.12"
  }
 },
 "nbformat": 4,
 "nbformat_minor": 5
}
