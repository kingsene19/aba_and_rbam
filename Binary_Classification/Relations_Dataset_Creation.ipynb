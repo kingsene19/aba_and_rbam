{
 "cells": [
  {
   "cell_type": "code",
   "execution_count": 1,
   "metadata": {},
   "outputs": [],
   "source": [
    "import pandas as pd\n",
    "import networkx as nx"
   ]
  },
  {
   "cell_type": "markdown",
   "metadata": {},
   "source": [
    "### Loading the dataframe"
   ]
  },
  {
   "cell_type": "code",
   "execution_count": 2,
   "metadata": {},
   "outputs": [],
   "source": [
    "df = pd.read_csv(\"datasets/arguments_dataset_cleaned.csv\")"
   ]
  },
  {
   "cell_type": "markdown",
   "metadata": {},
   "source": [
    "Convert it into a graph for easier search"
   ]
  },
  {
   "cell_type": "code",
   "execution_count": 3,
   "metadata": {},
   "outputs": [],
   "source": [
    "G = nx.DiGraph()\n",
    "\n",
    "for _, row in df.iterrows():\n",
    "    G.add_edge(row['Argument1'], row['Argument2'], relation=row['Relation'])"
   ]
  },
  {
   "cell_type": "markdown",
   "metadata": {},
   "source": [
    "#### Function to generate indirect relations"
   ]
  },
  {
   "cell_type": "code",
   "execution_count": 4,
   "metadata": {},
   "outputs": [],
   "source": [
    "# Recursive function to determine the indirect relation between two arguments\n",
    "def get_indirect_relation(a, b, G, memo):\n",
    "    # Avoid recomputating for the same pair of nodes during recursion\n",
    "    if (a, b) in memo:\n",
    "        return memo[(a, b)]\n",
    "    \n",
    "    # Check if there is a direct attack or support from a to b\n",
    "    if G.has_edge(a, b):\n",
    "        relation = G[a][b]['relation']\n",
    "        memo[(a, b)] = relation\n",
    "        return relation\n",
    "    \n",
    "    # Look through intermediaries\n",
    "    for c in G.nodes():\n",
    "        if c != a and c != b:\n",
    "            # If c attacks a\n",
    "            if G.has_edge(a, c) and G[a][c]['relation'] == 'Attack':\n",
    "                # If b supports c then b attacks a\n",
    "                if get_indirect_relation(c, b, G, memo) == 'Support':\n",
    "                    memo[(a, b)] = 'Attack'\n",
    "                    return 'Attack'\n",
    "                # If b attacks c then b supports a\n",
    "                elif get_indirect_relation(c, b, G, memo) == 'Attack':\n",
    "                    memo[(a, b)] = 'Support'\n",
    "                    return 'Support'\n",
    "            \n",
    "            # If c supports a\n",
    "            if G.has_edge(a, c) and G[a][c]['relation'] == 'Support':\n",
    "                # If b attacks c then b attacks a\n",
    "                if get_indirect_relation(c, b, G, memo) == 'Attack':\n",
    "                    memo[(a, b)] = 'Attack'\n",
    "                    return 'Attack'\n",
    "                # If b supports c then b supports a\n",
    "                elif get_indirect_relation(c, b, G, memo) == 'Support':\n",
    "                    memo[(a, b)] = 'Support'\n",
    "                    return 'Support'\n",
    "    \n",
    "    # If no valid relation is found, assume no indirect relation\n",
    "    memo[(a, b)] = None\n",
    "    return None\n",
    "\n",
    "# Function to format paths with relations\n",
    "def format_path_with_relations(path, edge_data):\n",
    "    formatted_path = []\n",
    "    for i in range(len(path) - 1):\n",
    "        formatted_path.append(f\"{path[i]} ({edge_data[i]['relation']})\")\n",
    "    formatted_path.append(path[-1])\n",
    "    return ' -> '.join(formatted_path)\n",
    "\n",
    "# Function to get indirect relations between arguments up to length n\n",
    "def get_indirect_relations(G, n, sample_size):\n",
    "    indirect_relations = []\n",
    "    memo = {}\n",
    "    sample_collected = False\n",
    "    # Go through the node in the graph\n",
    "    for source in G.nodes():\n",
    "        if sample_collected: \n",
    "            break\n",
    "        for target in G.nodes():\n",
    "            if source != target:\n",
    "                # Find all simple paths from source to target with a maximum length of n.\n",
    "                paths = list(nx.all_simple_paths(G, source, target, cutoff=n))\n",
    "                for path in paths:\n",
    "                    # Check if the path length matches exactly n\n",
    "                    if len(path) - 1 == n:\n",
    "                        edge_data = [G[path[i]][path[i+1]] for i in range(len(path)-1)]\n",
    "                        # Retrieve the indirect relation type between the source and target nodes\n",
    "                        relation = get_indirect_relation(path[0], path[-1], G, memo)\n",
    "                        # If a valid relation is found, process and format the path.\n",
    "                        if relation:\n",
    "                            formatted_path = format_path_with_relations(path, edge_data)\n",
    "                            indirect_relations.append({\n",
    "                                'Argument1': source,\n",
    "                                'Argument2': target,\n",
    "                                'Relation': relation,\n",
    "                                'Path': formatted_path\n",
    "                            })\n",
    "                        # If the required sample size is collected, set the flag and break the inner loops.\n",
    "                        if len(indirect_relations) == sample_size:\n",
    "                            sample_collected = True\n",
    "                            break\n",
    "            if sample_collected:\n",
    "                break\n",
    "    # Convert the collected relations into a pandas DataFrame and return it.\n",
    "    result_df = pd.DataFrame(indirect_relations)\n",
    "    return result_df\n"
   ]
  },
  {
   "cell_type": "markdown",
   "metadata": {},
   "source": [
    "#### N=2"
   ]
  },
  {
   "cell_type": "code",
   "execution_count": 5,
   "metadata": {},
   "outputs": [],
   "source": [
    "indirect_df = get_indirect_relations(G, 2, 500)"
   ]
  },
  {
   "cell_type": "code",
   "execution_count": 6,
   "metadata": {},
   "outputs": [],
   "source": [
    "indirect_df.to_csv(\"generated_relations/indirect_n2.csv\", index=False)"
   ]
  },
  {
   "cell_type": "markdown",
   "metadata": {},
   "source": [
    "#### N=3"
   ]
  },
  {
   "cell_type": "code",
   "execution_count": 7,
   "metadata": {},
   "outputs": [],
   "source": [
    "indirect_df = get_indirect_relations(G, 3, 500)"
   ]
  },
  {
   "cell_type": "code",
   "execution_count": 9,
   "metadata": {},
   "outputs": [],
   "source": [
    "indirect_df.to_csv(\"generated_relations/indirect_n3.csv\", index=False)"
   ]
  },
  {
   "cell_type": "markdown",
   "metadata": {},
   "source": [
    "### N=5"
   ]
  },
  {
   "cell_type": "code",
   "execution_count": 10,
   "metadata": {},
   "outputs": [],
   "source": [
    "indirect_df = get_indirect_relations(G, 5, 500)"
   ]
  },
  {
   "cell_type": "code",
   "execution_count": 11,
   "metadata": {},
   "outputs": [],
   "source": [
    "indirect_df.to_csv(\"generated_relations/indirect_n5.csv\", index=False)"
   ]
  }
 ],
 "metadata": {
  "kernelspec": {
   "display_name": "pytorch_env",
   "language": "python",
   "name": "python3"
  },
  "language_info": {
   "codemirror_mode": {
    "name": "ipython",
    "version": 3
   },
   "file_extension": ".py",
   "mimetype": "text/x-python",
   "name": "python",
   "nbconvert_exporter": "python",
   "pygments_lexer": "ipython3",
   "version": "3.11.3"
  }
 },
 "nbformat": 4,
 "nbformat_minor": 4
}
